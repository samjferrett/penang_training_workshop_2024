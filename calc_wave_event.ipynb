{
 "cells": [
  {
   "cell_type": "code",
   "execution_count": 2,
   "id": "2ac09d88-f2b0-43cb-a462-a1340c42502c",
   "metadata": {},
   "outputs": [],
   "source": [
    "import xarray as xr\n",
    "import metpy\n",
    "import numpy as np"
   ]
  },
  {
   "cell_type": "code",
   "execution_count": 10,
   "id": "04046a57-bb02-4f6d-9947-0dd7d4423041",
   "metadata": {},
   "outputs": [],
   "source": [
    "#event_start = np.datetime64('2021-12-18')\n",
    "event_start = np.datetime64('2022-12-08')\n",
    "ws_path = '/gws/nopw/j04/ncas_climate_vol1/users/bc917929/'\n"
   ]
  },
  {
   "cell_type": "code",
   "execution_count": 11,
   "id": "507f061b-9da9-4c61-a3b9-c37631118481",
   "metadata": {},
   "outputs": [],
   "source": [
    "date_sl = slice((np.datetime64(event_start)-np.timedelta64(10)).astype(str).item(),(np.datetime64(event_start)+np.timedelta64(10)).astype(str).item())\n",
    "wave_nc = xr.open_dataset(f'{ws_path}wave_analysis/era5/uz_Kelvin_rm_clim_k2-40_p2-30_2000-2022_ERA5.nc').sel(time=date_sl)\n",
    "\n",
    "div = metpy.calc.divergence(u=wave_nc.eastward_wind,v=xr.zeros_like(wave_nc.eastward_wind)).compute()\n",
    "div.name = 'divergence'\n",
    "xr.merge([wave_nc,div.metpy.dequantify()]).to_netcdf('./inputs/Kelv_event2.nc')"
   ]
  },
  {
   "cell_type": "code",
   "execution_count": 12,
   "id": "df15fbb2-b394-4e83-9830-aea16c26f2b4",
   "metadata": {},
   "outputs": [],
   "source": [
    "wave_nc = xr.open_dataset(f'{ws_path}wave_analysis/era5/uvz_WMRG_rm_clim_kn2-40_p2-30_2000-2022_ERA5.nc').sel(time=date_sl)\n",
    "wave_nc.eastward_wind.attrs = {'units':'m/s'}\n",
    "wave_nc.northward_wind.attrs = {'units':'m/s'}\n",
    "vor = metpy.calc.vorticity(u=wave_nc.eastward_wind,v=wave_nc.northward_wind).compute()\n",
    "vor.name = 'vorticity'\n",
    "xr.merge([wave_nc,vor.metpy.dequantify()]).to_netcdf('./inputs/WMRG_event2.nc')"
   ]
  },
  {
   "cell_type": "code",
   "execution_count": 13,
   "id": "800e276c-d6c5-4a1d-a49c-b793ed936b59",
   "metadata": {},
   "outputs": [],
   "source": [
    "wave_nc = xr.open_dataset(f'{ws_path}wave_analysis/era5/uvz_R1_rm_clim_kn2-40_p2-30_2000-2022_ERA5.nc').sel(time=date_sl)\n",
    "wave_nc.eastward_wind.attrs = {'units':'m/s'}\n",
    "wave_nc.northward_wind.attrs = {'units':'m/s'}\n",
    "vor = metpy.calc.vorticity(u=wave_nc.eastward_wind,v=wave_nc.northward_wind).compute()\n",
    "vor.name = 'vorticity'\n",
    "xr.merge([wave_nc,vor.metpy.dequantify()]).to_netcdf('./inputs/R1_event2.nc')"
   ]
  },
  {
   "cell_type": "code",
   "execution_count": 14,
   "id": "6748e362-987b-45dc-8752-abd75768c1a0",
   "metadata": {},
   "outputs": [],
   "source": [
    "date_sl = slice((np.datetime64(event_start)-np.timedelta64(1)).astype(str).item(),(np.datetime64(event_start)+np.timedelta64(1)).astype(str).item())\n",
    "\n",
    "gpm_dir = '/gws/nopw/j04/ncas_climate_vol1/users/bc917929/GPM_Final/GPM_day/case_nov2023/HH/'\n",
    "#gpm_nc = xr.open_mfdataset([f'{gpm_dir}GPM_112021_6hrly.nc',f'{gpm_dir}GPM_122021_6hrly.nc'])\n",
    "gpm_nc = xr.open_mfdataset([f'{gpm_dir}GPM_112022_6hrly.nc',f'{gpm_dir}GPM_122022_6hrly.nc'])\n",
    "gpm_anom = (gpm_nc.sel(time=date_sl).precipitation.groupby('time.hour')-gpm_nc.precipitation.groupby('time.hour').mean('time')).compute()\n",
    "gpm_anom.to_netcdf('./inputs/gpm_pr_anom_event2.nc')"
   ]
  },
  {
   "cell_type": "code",
   "execution_count": null,
   "id": "26308db9-f067-4780-b1bc-704cb6dbe9d4",
   "metadata": {},
   "outputs": [],
   "source": []
  }
 ],
 "metadata": {
  "kernelspec": {
   "display_name": "Python 3 + Jaspy",
   "language": "python",
   "name": "jaspy"
  },
  "language_info": {
   "codemirror_mode": {
    "name": "ipython",
    "version": 3
   },
   "file_extension": ".py",
   "mimetype": "text/x-python",
   "name": "python",
   "nbconvert_exporter": "python",
   "pygments_lexer": "ipython3",
   "version": "3.11.9"
  }
 },
 "nbformat": 4,
 "nbformat_minor": 5
}
